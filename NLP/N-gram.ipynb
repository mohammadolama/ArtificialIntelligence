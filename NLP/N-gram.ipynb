{
 "cells": [
  {
   "cell_type": "markdown",
   "metadata": {
    "id": "_XubLQR6NBDO"
   },
   "source": [
    "<div align=center>\n",
    "\t\t\n",
    "<p></p>\n",
    "<p></p>\n",
    "<font size=5>\n",
    "In the Name of God\n",
    "<font/>\n",
    " <p></p>\n",
    " <br/>\n",
    "\t\t<div align=center>\n",
    "\t\t    <size=6>\n",
    "\t\t\t    <br />\n",
    "Practical Assignment 4 - part 1\n",
    "              <font color=blue size=6>\n",
    "            \t<br/>\n",
    "              Naive Bayes Classifier\n",
    "\t\t\t</font>\n",
    "    <br/>\n",
    "    <br/>\n",
    " </div>\n",
    "<hr/>\n",
    "Artifical Intelligence - Dr. GholamReza GhassemSani\n",
    "</font>\n",
    "  <p></p>\n",
    " <br/>\n",
    "Sharif University of Technology\n",
    "<p></p>\n",
    "Spring 2022\n",
    "\n",
    "\n",
    "<br/>\n",
    "<br/>\n",
    "<font size=4 color=red>\n",
    " </font>\n",
    "                <br/>\n",
    "    </div>"
   ]
  },
  {
   "cell_type": "markdown",
   "metadata": {
    "id": "NY0TuS_eNH9W"
   },
   "source": [
    "**Due date: 19/4/1401 (at 11:59pm)**<br>\n",
    "You are free to collaborate but solutions must be written up individually.\n",
    "Collaborators **must** be acknowledged.<br>\n",
    "Submissions with more than 100 hours delay will not be graded.<br>Submissions with less than\n",
    "50 hours delay will be penalized by the following rule:<br>\n",
    "**Penalized mark = M * (100 – D) / 100** <br>\n",
    "Where M = the mark achieved from your solution and D is number of hours passed the\n",
    "deadline. Submissions with 50 < X ≤ 100 hours delay will be penalized by P.M. = M * 0.5.<br>\n",
    "Submit your answers on quera."
   ]
  },
  {
   "cell_type": "markdown",
   "metadata": {
    "id": "xr0SFBmgNLFX"
   },
   "source": [
    "student_number = 98100497 \n",
    "\n",
    "Name = Mohammad Ali \n",
    "\n",
    "Last_Name = Olama "
   ]
  },
  {
   "cell_type": "markdown",
   "metadata": {
    "id": "KAlQQZzFNNap"
   },
   "source": [
    "# Introduction"
   ]
  },
  {
   "cell_type": "markdown",
   "metadata": {
    "id": "Ag0nI_YUNRpA"
   },
   "source": [
    "### In this assignment, you are going to learn about the Naive Bayes algorithm, including how it works and how to implement it from scratch on a given dataset. Hence you are not allowed to use scikit-learn for implementing NB.\n",
    "### You will use the [SentiPers](https://github.com/phosseini/SentiPers) dataset for this assignment, which is a sentiment analysis corpus for Persian.\n",
    "### Note that F1-Score will be used to evaluate your code.\n"
   ]
  },
  {
   "cell_type": "markdown",
   "metadata": {
    "id": "naxLbFBVYtX-"
   },
   "source": [
    "# SentiPers Dateset"
   ]
  },
  {
   "cell_type": "markdown",
   "metadata": {
    "id": "hVCeQJQQYzUB"
   },
   "source": [
    "### You can download the dataset from this link:\n",
    "https://github.com/phosseini/SentiPers/blob/master/data/sentipers.xlsx\n",
    "### The SentiPers dataset involves polarity of some sentences. There are more than 15,500 unique sentences with polarity labels in the range of [\"-2\", \"-1\", \"0\", \"+1\", \"+2\"] with -2 being very negative, +2 being very positive, and 0 being neutral.\n",
    "### In this step, you have to import the necessary dependencies, download the dataset and do some initial preprocessing on the dataset.\n"
   ]
  },
  {
   "cell_type": "markdown",
   "metadata": {
    "id": "5o4oxdT1ezKO"
   },
   "source": [
    "### Do not forget the following items: \n",
    "\n",
    "1.   Download the dataset and show some of its rows.\n",
    "2.   Briefly describe the dataset. Check that if it has any Nan or duplicated values.\n",
    "3.   Describe the polarity column. Show its unique values and count each one.\n",
    "4.   Ignore all sentences with 0 as their polarity label. Also, assume that there are only two positive and negative classes, +1 and +2 as positive and -1 and -2 as negative.\n",
    "5.   (Optional) Text preprocessing is the very first step of NLP projects. You can either implement this part, or use libraries ([hazm](https://github.com/sobhe/hazm), [parsivar](https://github.com/ICTRC/Parsivar)). Use appropriate preprocessing steps based on the dataset.\n",
    "6.   Report the corpus's total number of sentences and words. Also, print the ten most seen words with their frequency.\n",
    "7.   Note that the dataset is imbalanced (the positive and negative classes are not represented equally). Explain how this problem can affect the accuracy and what your solution is."
   ]
  },
  {
   "cell_type": "code",
   "execution_count": 1,
   "metadata": {
    "id": "LIBzapV8U7jr"
   },
   "outputs": [],
   "source": [
    "import pandas as pd\n",
    "import numpy as np\n",
    "from tqdm import tqdm\n",
    "from collections import Counter\n",
    "from collections import OrderedDict\n",
    "from __future__ import unicode_literals\n",
    "from hazm import *\n",
    "from hazm import stopwords_list"
   ]
  },
  {
   "cell_type": "code",
   "execution_count": 2,
   "metadata": {
    "id": "yH02bdPyHFdV"
   },
   "outputs": [
    {
     "name": "stderr",
     "output_type": "stream",
     "text": [
      "Cloning into 'SentiPers'...\n"
     ]
    }
   ],
   "source": [
    "!git clone https://github.com/phosseini/SentiPers.git"
   ]
  },
  {
   "cell_type": "code",
   "execution_count": 3,
   "metadata": {},
   "outputs": [],
   "source": [
    "pip install xlrd\n",
    "pip install hazm"
   ]
  },
  {
   "cell_type": "code",
   "execution_count": 4,
   "metadata": {
    "id": "dnMZ4bkfskPM"
   },
   "outputs": [
    {
     "data": {
      "text/html": [
       "<div>\n",
       "<style scoped>\n",
       "    .dataframe tbody tr th:only-of-type {\n",
       "        vertical-align: middle;\n",
       "    }\n",
       "\n",
       "    .dataframe tbody tr th {\n",
       "        vertical-align: top;\n",
       "    }\n",
       "\n",
       "    .dataframe thead th {\n",
       "        text-align: right;\n",
       "    }\n",
       "</style>\n",
       "<table border=\"1\" class=\"dataframe\">\n",
       "  <thead>\n",
       "    <tr style=\"text-align: right;\">\n",
       "      <th></th>\n",
       "      <th>index</th>\n",
       "      <th>sid</th>\n",
       "      <th>text</th>\n",
       "      <th>polarity</th>\n",
       "      <th>file</th>\n",
       "      <th>text2</th>\n",
       "    </tr>\n",
       "  </thead>\n",
       "  <tbody>\n",
       "    <tr>\n",
       "      <th>0</th>\n",
       "      <td>0</td>\n",
       "      <td>rev-1</td>\n",
       "      <td>اینک قصد داریم پرینتر دیگری از پرینترهای لیزری...</td>\n",
       "      <td>0</td>\n",
       "      <td>data/main/HP LaserJet M1132.xml</td>\n",
       "      <td>اینک قصد داریم پرینتر دیگری از پرینترهای لیزری...</td>\n",
       "    </tr>\n",
       "    <tr>\n",
       "      <th>1</th>\n",
       "      <td>1</td>\n",
       "      <td>rev-2</td>\n",
       "      <td>پرینتری چند کاره از رده‌ی Entry Level یا سطح م...</td>\n",
       "      <td>0</td>\n",
       "      <td>data/main/HP LaserJet M1132.xml</td>\n",
       "      <td>پرینتری چند کاره از رده‌ی Entry Level یا سطح م...</td>\n",
       "    </tr>\n",
       "    <tr>\n",
       "      <th>2</th>\n",
       "      <td>2</td>\n",
       "      <td>rev-3</td>\n",
       "      <td>به هر صورت اکنون ما در دنیایی زندگی می‌کنیم،  ...</td>\n",
       "      <td>0</td>\n",
       "      <td>data/main/HP LaserJet M1132.xml</td>\n",
       "      <td>به هر صورت اکنون ما در دنیایی زندگی می‌کنیم،  ...</td>\n",
       "    </tr>\n",
       "    <tr>\n",
       "      <th>3</th>\n",
       "      <td>3</td>\n",
       "      <td>rev-4</td>\n",
       "      <td>به صورتی که توانایی کپی کردن،  اسکن،  فکس،  پر...</td>\n",
       "      <td>0</td>\n",
       "      <td>data/main/HP LaserJet M1132.xml</td>\n",
       "      <td>به صورتی که توانایی کپی کردن،  اسکن،  فکس،  پر...</td>\n",
       "    </tr>\n",
       "    <tr>\n",
       "      <th>4</th>\n",
       "      <td>4</td>\n",
       "      <td>rev-5</td>\n",
       "      <td>به هر صورت معمولا چیزی که بیشتر کاربران از پری...</td>\n",
       "      <td>2</td>\n",
       "      <td>data/main/HP LaserJet M1132.xml</td>\n",
       "      <td>به هر صورت معمولا چیزی که بیشتر کاربران از پری...</td>\n",
       "    </tr>\n",
       "    <tr>\n",
       "      <th>...</th>\n",
       "      <td>...</td>\n",
       "      <td>...</td>\n",
       "      <td>...</td>\n",
       "      <td>...</td>\n",
       "      <td>...</td>\n",
       "      <td>...</td>\n",
       "    </tr>\n",
       "    <tr>\n",
       "      <th>15678</th>\n",
       "      <td>13286</td>\n",
       "      <td>-</td>\n",
       "      <td>البته نمی‌توان گفت که سیستم خنک کننده کاملا بی...</td>\n",
       "      <td>1</td>\n",
       "      <td>data/extra/Apple MacBook Pro With Retina Displ...</td>\n",
       "      <td>البته نمی‌توان گفت که سیستم خنک کننده کاملا بی...</td>\n",
       "    </tr>\n",
       "    <tr>\n",
       "      <th>15679</th>\n",
       "      <td>13290</td>\n",
       "      <td>-</td>\n",
       "      <td>باتری با وجود تمام سخت افزارهای فوق‌العاده به ...</td>\n",
       "      <td>1</td>\n",
       "      <td>data/extra/Apple MacBook Pro With Retina Displ...</td>\n",
       "      <td>باتری با وجود تمام سخت افزارهای فوق‌العاده به ...</td>\n",
       "    </tr>\n",
       "    <tr>\n",
       "      <th>15680</th>\n",
       "      <td>13292</td>\n",
       "      <td>-</td>\n",
       "      <td>نرم افزار به طور پیش فرض Retina MacBook Pro از...</td>\n",
       "      <td>1</td>\n",
       "      <td>data/extra/Apple MacBook Pro With Retina Displ...</td>\n",
       "      <td>نرم افزار به طور پیش فرض Retina MacBook Pro از...</td>\n",
       "    </tr>\n",
       "    <tr>\n",
       "      <th>15681</th>\n",
       "      <td>13295</td>\n",
       "      <td>-</td>\n",
       "      <td>متاسفانه سایر برنامه‌ها بر روی این صفحه نمایش ...</td>\n",
       "      <td>-1</td>\n",
       "      <td>data/extra/Apple MacBook Pro With Retina Displ...</td>\n",
       "      <td>متاسفانه سایر برنامه‌ها بر روی این صفحه نمایش ...</td>\n",
       "    </tr>\n",
       "    <tr>\n",
       "      <th>15682</th>\n",
       "      <td>13298</td>\n",
       "      <td>-</td>\n",
       "      <td>جمع بندی همواره MacBook Pro جزو سری خاصی از لپ...</td>\n",
       "      <td>0</td>\n",
       "      <td>data/extra/Apple MacBook Pro With Retina Displ...</td>\n",
       "      <td>جمع بندی همواره MacBook Pro جزو سری خاصی از لپ...</td>\n",
       "    </tr>\n",
       "  </tbody>\n",
       "</table>\n",
       "<p>15683 rows × 6 columns</p>\n",
       "</div>"
      ],
      "text/plain": [
       "       index    sid                                               text  \\\n",
       "0          0  rev-1  اینک قصد داریم پرینتر دیگری از پرینترهای لیزری...   \n",
       "1          1  rev-2  پرینتری چند کاره از رده‌ی Entry Level یا سطح م...   \n",
       "2          2  rev-3  به هر صورت اکنون ما در دنیایی زندگی می‌کنیم،  ...   \n",
       "3          3  rev-4  به صورتی که توانایی کپی کردن،  اسکن،  فکس،  پر...   \n",
       "4          4  rev-5  به هر صورت معمولا چیزی که بیشتر کاربران از پری...   \n",
       "...      ...    ...                                                ...   \n",
       "15678  13286      -  البته نمی‌توان گفت که سیستم خنک کننده کاملا بی...   \n",
       "15679  13290      -  باتری با وجود تمام سخت افزارهای فوق‌العاده به ...   \n",
       "15680  13292      -  نرم افزار به طور پیش فرض Retina MacBook Pro از...   \n",
       "15681  13295      -  متاسفانه سایر برنامه‌ها بر روی این صفحه نمایش ...   \n",
       "15682  13298      -  جمع بندی همواره MacBook Pro جزو سری خاصی از لپ...   \n",
       "\n",
       "       polarity                                               file  \\\n",
       "0             0                    data/main/HP LaserJet M1132.xml   \n",
       "1             0                    data/main/HP LaserJet M1132.xml   \n",
       "2             0                    data/main/HP LaserJet M1132.xml   \n",
       "3             0                    data/main/HP LaserJet M1132.xml   \n",
       "4             2                    data/main/HP LaserJet M1132.xml   \n",
       "...         ...                                                ...   \n",
       "15678         1  data/extra/Apple MacBook Pro With Retina Displ...   \n",
       "15679         1  data/extra/Apple MacBook Pro With Retina Displ...   \n",
       "15680         1  data/extra/Apple MacBook Pro With Retina Displ...   \n",
       "15681        -1  data/extra/Apple MacBook Pro With Retina Displ...   \n",
       "15682         0  data/extra/Apple MacBook Pro With Retina Displ...   \n",
       "\n",
       "                                                   text2  \n",
       "0      اینک قصد داریم پرینتر دیگری از پرینترهای لیزری...  \n",
       "1      پرینتری چند کاره از رده‌ی Entry Level یا سطح م...  \n",
       "2      به هر صورت اکنون ما در دنیایی زندگی می‌کنیم،  ...  \n",
       "3      به صورتی که توانایی کپی کردن،  اسکن،  فکس،  پر...  \n",
       "4      به هر صورت معمولا چیزی که بیشتر کاربران از پری...  \n",
       "...                                                  ...  \n",
       "15678  البته نمی‌توان گفت که سیستم خنک کننده کاملا بی...  \n",
       "15679  باتری با وجود تمام سخت افزارهای فوق‌العاده به ...  \n",
       "15680  نرم افزار به طور پیش فرض Retina MacBook Pro از...  \n",
       "15681  متاسفانه سایر برنامه‌ها بر روی این صفحه نمایش ...  \n",
       "15682  جمع بندی همواره MacBook Pro جزو سری خاصی از لپ...  \n",
       "\n",
       "[15683 rows x 6 columns]"
      ]
     },
     "execution_count": 4,
     "metadata": {},
     "output_type": "execute_result"
    }
   ],
   "source": [
    "df = pd.read_excel('SentiPers/data/sentipers.xlsx')\n",
    "active = True\n",
    "\n",
    "# We use 'text2' column as raw text for later use of sklearn library. We change 'text' column in the following cells to use in our handwritten naive bayes algorithm.\n",
    "df['text2'] = df['text']\n",
    "df\n"
   ]
  },
  {
   "cell_type": "code",
   "execution_count": 5,
   "metadata": {
    "id": "iwNQXxOnpnlD"
   },
   "outputs": [
    {
     "name": "stdout",
     "output_type": "stream",
     "text": [
      "1) show some of its rows:  It's done in previous cell.\n",
      "2) Briefly describe the dataset. Check that if it has any Nan or duplicated values.\n",
      "This dataset has 15683 rows and 5 columns. Each row, represents a sample. Each column represents a feature.\n",
      "\t 1) \"index\": it is obvious\n",
      "\t 2) \"sid\" : I do not know what it is! \n",
      "\t 3) \"text\" the main part of the dataset which is a collection of features(suppose each word in a sentence is a feature)\n",
      "\t 4) \"polarity\" the label(or class) of each sample.\n",
      "\t 5) \"file\" : I do not know what it is! \n",
      "This is a supervised classification problem!\n",
      "**************************************************\n",
      "number of invalid rows with polarity value below -2 is:  0\n",
      "number of invalid rows with polarity value above +2 is:  0\n",
      "number of invalid rows with duplicated text is:  2158\n",
      "removing rows with duplicated text. now dataframe shape is:  (13525, 6)\n",
      "number of invalid rows with Nan or NA values is:  0\n",
      "----------------------------------------------------------------------------------------------------\n",
      "3) Describe the polarity column. Show its unique values and count each one.\n",
      " 0    5069\n",
      " 1    4317\n",
      " 2    2530\n",
      "-1    1417\n",
      "-2     192\n",
      "Name: polarity, dtype: int64\n",
      "----------------------------------------------------------------------------------------------------\n",
      "4) Ignore all sentences with 0 as their polarity label. Also, assume that there are only two positive and negative classes, +1 and +2 as positive and -1 and -2 as negative.\n",
      "removed  5069  rows with plarity == 0. Now dataframe shape is:  (8456, 6)\n",
      "\n",
      "\n"
     ]
    },
    {
     "data": {
      "text/html": [
       "<div>\n",
       "<style scoped>\n",
       "    .dataframe tbody tr th:only-of-type {\n",
       "        vertical-align: middle;\n",
       "    }\n",
       "\n",
       "    .dataframe tbody tr th {\n",
       "        vertical-align: top;\n",
       "    }\n",
       "\n",
       "    .dataframe thead th {\n",
       "        text-align: right;\n",
       "    }\n",
       "</style>\n",
       "<table border=\"1\" class=\"dataframe\">\n",
       "  <thead>\n",
       "    <tr style=\"text-align: right;\">\n",
       "      <th></th>\n",
       "      <th>index</th>\n",
       "      <th>sid</th>\n",
       "      <th>text</th>\n",
       "      <th>polarity</th>\n",
       "      <th>file</th>\n",
       "      <th>text2</th>\n",
       "    </tr>\n",
       "  </thead>\n",
       "  <tbody>\n",
       "    <tr>\n",
       "      <th>4</th>\n",
       "      <td>4</td>\n",
       "      <td>rev-5</td>\n",
       "      <td>به هر صورت معمولا چیزی که بیشتر کاربران از پری...</td>\n",
       "      <td>1</td>\n",
       "      <td>data/main/HP LaserJet M1132.xml</td>\n",
       "      <td>به هر صورت معمولا چیزی که بیشتر کاربران از پری...</td>\n",
       "    </tr>\n",
       "    <tr>\n",
       "      <th>6</th>\n",
       "      <td>6</td>\n",
       "      <td>rev-7</td>\n",
       "      <td>M1132 نیز پرینتری است که به نظر یکی از بهترین‌...</td>\n",
       "      <td>1</td>\n",
       "      <td>data/main/HP LaserJet M1132.xml</td>\n",
       "      <td>M1132 نیز پرینتری است که به نظر یکی از بهترین‌...</td>\n",
       "    </tr>\n",
       "    <tr>\n",
       "      <th>8</th>\n",
       "      <td>9</td>\n",
       "      <td>rev-10</td>\n",
       "      <td>ابعاد آن 415 x 265 x 250 میلی متر می‌باشد و وز...</td>\n",
       "      <td>1</td>\n",
       "      <td>data/main/HP LaserJet M1132.xml</td>\n",
       "      <td>ابعاد آن 415 x 265 x 250 میلی متر می‌باشد و وز...</td>\n",
       "    </tr>\n",
       "    <tr>\n",
       "      <th>15</th>\n",
       "      <td>16</td>\n",
       "      <td>rev-17</td>\n",
       "      <td>Hp زمان راه اندازی و Setup را با استفاده از فن...</td>\n",
       "      <td>1</td>\n",
       "      <td>data/main/HP LaserJet M1132.xml</td>\n",
       "      <td>Hp زمان راه اندازی و Setup را با استفاده از فن...</td>\n",
       "    </tr>\n",
       "    <tr>\n",
       "      <th>17</th>\n",
       "      <td>18</td>\n",
       "      <td>rev-19</td>\n",
       "      <td>سرعت پرینت به نوعی فوق العاده می‌باشد،  به طور...</td>\n",
       "      <td>1</td>\n",
       "      <td>data/main/HP LaserJet M1132.xml</td>\n",
       "      <td>سرعت پرینت به نوعی فوق العاده می‌باشد،  به طور...</td>\n",
       "    </tr>\n",
       "    <tr>\n",
       "      <th>...</th>\n",
       "      <td>...</td>\n",
       "      <td>...</td>\n",
       "      <td>...</td>\n",
       "      <td>...</td>\n",
       "      <td>...</td>\n",
       "      <td>...</td>\n",
       "    </tr>\n",
       "    <tr>\n",
       "      <th>15665</th>\n",
       "      <td>13233</td>\n",
       "      <td>-</td>\n",
       "      <td>برای جمع بندی باید بگوییم که کار کردن با این د...</td>\n",
       "      <td>1</td>\n",
       "      <td>data/extra/Apple Ipod Touch 8GB.xml</td>\n",
       "      <td>برای جمع بندی باید بگوییم که کار کردن با این د...</td>\n",
       "    </tr>\n",
       "    <tr>\n",
       "      <th>15666</th>\n",
       "      <td>13234</td>\n",
       "      <td>-</td>\n",
       "      <td>نه خیلی ساده،  ولی با این حال لذت بخش است.</td>\n",
       "      <td>1</td>\n",
       "      <td>data/extra/Apple Ipod Touch 8GB.xml</td>\n",
       "      <td>نه خیلی ساده،  ولی با این حال لذت بخش است.</td>\n",
       "    </tr>\n",
       "    <tr>\n",
       "      <th>15667</th>\n",
       "      <td>13235</td>\n",
       "      <td>-</td>\n",
       "      <td>بیشتر شکایت ها و ایرادهایی که ما به این دستگاه...</td>\n",
       "      <td>-1</td>\n",
       "      <td>data/extra/Apple Ipod Touch 8GB.xml</td>\n",
       "      <td>بیشتر شکایت ها و ایرادهایی که ما به این دستگاه...</td>\n",
       "    </tr>\n",
       "    <tr>\n",
       "      <th>15668</th>\n",
       "      <td>13236</td>\n",
       "      <td>-</td>\n",
       "      <td>ولی در کل از آن نارضایتی خاصی نداریم.</td>\n",
       "      <td>1</td>\n",
       "      <td>data/extra/Apple Ipod Touch 8GB.xml</td>\n",
       "      <td>ولی در کل از آن نارضایتی خاصی نداریم.</td>\n",
       "    </tr>\n",
       "    <tr>\n",
       "      <th>15669</th>\n",
       "      <td>13237</td>\n",
       "      <td>-</td>\n",
       "      <td>به هر حال iPod touch محصول Apple است و دیگر نی...</td>\n",
       "      <td>1</td>\n",
       "      <td>data/extra/Apple Ipod Touch 8GB.xml</td>\n",
       "      <td>به هر حال iPod touch محصول Apple است و دیگر نی...</td>\n",
       "    </tr>\n",
       "  </tbody>\n",
       "</table>\n",
       "<p>8456 rows × 6 columns</p>\n",
       "</div>"
      ],
      "text/plain": [
       "       index     sid                                               text  \\\n",
       "4          4   rev-5  به هر صورت معمولا چیزی که بیشتر کاربران از پری...   \n",
       "6          6   rev-7  M1132 نیز پرینتری است که به نظر یکی از بهترین‌...   \n",
       "8          9  rev-10  ابعاد آن 415 x 265 x 250 میلی متر می‌باشد و وز...   \n",
       "15        16  rev-17  Hp زمان راه اندازی و Setup را با استفاده از فن...   \n",
       "17        18  rev-19  سرعت پرینت به نوعی فوق العاده می‌باشد،  به طور...   \n",
       "...      ...     ...                                                ...   \n",
       "15665  13233       -  برای جمع بندی باید بگوییم که کار کردن با این د...   \n",
       "15666  13234       -         نه خیلی ساده،  ولی با این حال لذت بخش است.   \n",
       "15667  13235       -  بیشتر شکایت ها و ایرادهایی که ما به این دستگاه...   \n",
       "15668  13236       -              ولی در کل از آن نارضایتی خاصی نداریم.   \n",
       "15669  13237       -  به هر حال iPod touch محصول Apple است و دیگر نی...   \n",
       "\n",
       "       polarity                                 file  \\\n",
       "4             1      data/main/HP LaserJet M1132.xml   \n",
       "6             1      data/main/HP LaserJet M1132.xml   \n",
       "8             1      data/main/HP LaserJet M1132.xml   \n",
       "15            1      data/main/HP LaserJet M1132.xml   \n",
       "17            1      data/main/HP LaserJet M1132.xml   \n",
       "...         ...                                  ...   \n",
       "15665         1  data/extra/Apple Ipod Touch 8GB.xml   \n",
       "15666         1  data/extra/Apple Ipod Touch 8GB.xml   \n",
       "15667        -1  data/extra/Apple Ipod Touch 8GB.xml   \n",
       "15668         1  data/extra/Apple Ipod Touch 8GB.xml   \n",
       "15669         1  data/extra/Apple Ipod Touch 8GB.xml   \n",
       "\n",
       "                                                   text2  \n",
       "4      به هر صورت معمولا چیزی که بیشتر کاربران از پری...  \n",
       "6      M1132 نیز پرینتری است که به نظر یکی از بهترین‌...  \n",
       "8      ابعاد آن 415 x 265 x 250 میلی متر می‌باشد و وز...  \n",
       "15     Hp زمان راه اندازی و Setup را با استفاده از فن...  \n",
       "17     سرعت پرینت به نوعی فوق العاده می‌باشد،  به طور...  \n",
       "...                                                  ...  \n",
       "15665  برای جمع بندی باید بگوییم که کار کردن با این د...  \n",
       "15666         نه خیلی ساده،  ولی با این حال لذت بخش است.  \n",
       "15667  بیشتر شکایت ها و ایرادهایی که ما به این دستگاه...  \n",
       "15668              ولی در کل از آن نارضایتی خاصی نداریم.  \n",
       "15669  به هر حال iPod touch محصول Apple است و دیگر نی...  \n",
       "\n",
       "[8456 rows x 6 columns]"
      ]
     },
     "metadata": {},
     "output_type": "display_data"
    },
    {
     "name": "stdout",
     "output_type": "stream",
     "text": [
      "\n",
      "\n",
      " 1    6847\n",
      "-1    1609\n",
      "Name: polarity, dtype: int64\n",
      "\n",
      "\n",
      "----------------------------------------------------------------------------------------------------\n",
      "5) (Optional) Text preprocessing is the very first step of NLP projects. You can either implement this part, or use libraries (hazm, parsivar). Use appropriate preprocessing steps based on the dataset. Report the corpus's total number of sentences and words. Also, print the ten most seen words with their frequency. \n",
      " \n",
      "total number of sentences in corpus is:  8561\n",
      "total number of words in corpus is:  198573\n",
      "total number of unique words in corpus is:  12374\n",
      "10 most used words in the corpus are: \n",
      "('و', 7017)\n",
      "('.', 6914)\n",
      "('به', 4920)\n",
      "('که', 4876)\n",
      "('این', 4421)\n",
      "('از', 4145)\n",
      "('در', 3805)\n",
      "('با', 3248)\n",
      "('،', 3051)\n",
      "('گوشی', 2212)\n",
      "----------------------------------------------------------------------------------------------------\n",
      "now let's refine the dataset. as you can see, 9 out of 10 of most seen words are punctutaion or preposition. we remove all these words. \n",
      "\n",
      "total number of sentences in corpus is:  8475\n",
      "total number of words in corpus is:  158645\n",
      "total number of unique words in corpus is:  12359\n",
      "10 most used words in the corpus are: \n",
      "('گوشی', 2211)\n",
      "('هم', 1792)\n",
      "('را', 1705)\n",
      "('است', 1661)\n",
      "('من', 1398)\n",
      "('خیلی', 1386)\n",
      "('دوربین', 1382)\n",
      "('رو', 1249)\n",
      "('بسیار', 1227)\n",
      "('برای', 1134)\n",
      "----------------------------------------------------------------------------------------------------\n",
      "7) Note that the dataset is imbalanced (the positive and negative classes are not represented equally). Explain how this problem can affect the accuracy and what your solution is.\n",
      "\n",
      "later in this notebook, you will see that almost 80% of samples belong to class +1. so with a really dumb predicator which maps every sample to class +1, we will get 80% accuracy!\n"
     ]
    }
   ],
   "source": [
    "# TODO\n",
    "\n",
    "\n",
    "\n",
    "# my custom functions:\n",
    "\n",
    "def check_invalid_polarity(df1):\n",
    "    b = df1[df1['polarity'] < -2]\n",
    "    print(\"number of invalid rows with polarity value below -2 is: \" , b.shape[0])\n",
    "    c = df1[df1['polarity'] > +2]\n",
    "    print(\"number of invalid rows with polarity value above +2 is: \" , c.shape[0])\n",
    "    pass\n",
    "\n",
    "def remove_invalid_polarity(df1):\n",
    "    check_invalid_polarity(df1)\n",
    "    df1.drop(df1[df1.polarity < -2].index, inplace=True)\n",
    "    df1.drop(df1[df1.polarity > +2].index, inplace=True)\n",
    "    pass\n",
    "\n",
    "def check_duplicate_text(df1):\n",
    "    a = df1.text.duplicated()\n",
    "#     print(a)\n",
    "    b = a.value_counts()\n",
    "    if b.shape == (2,):\n",
    "        print(\"number of invalid rows with duplicated text is: \" , b[1])\n",
    "    else:\n",
    "        print(\"number of invalid rows with duplicated text is: \" , 0)\n",
    "    return a\n",
    "    pass\n",
    "\n",
    "def remove_duplicate_text(df1):\n",
    "    a1 = check_duplicate_text(df1)\n",
    "    df1.drop(df1[a1].index, inplace=True)\n",
    "    print(\"removing rows with duplicated text. now dataframe shape is: \" , df1.shape )\n",
    "    pass\n",
    "    \n",
    "def check_for_Nan_and_NA(df1):\n",
    "    df2 = df1.dropna()\n",
    "    print(\"number of invalid rows with Nan or NA values is: \" , df2.shape[0] - df1.shape[0])\n",
    "    df1 = df1.dropna()\n",
    "    \n",
    "def details():\n",
    "    print(\"This dataset has 15683 rows and 5 columns. Each row, represents a sample. Each column represents a feature.\")\n",
    "    print('\\t 1) \\\"index\\\": it is obvious')\n",
    "    print('\\t 2) \\\"sid\\\" : I do not know what it is! ')\n",
    "    print('\\t 3) \\\"text\\\" the main part of the dataset which is a collection of features(suppose each word in a sentence is a feature)')\n",
    "    print('\\t 4) \\\"polarity\\\" the label(or class) of each sample.')\n",
    "    print('\\t 5) \\\"file\\\" : I do not know what it is! ')\n",
    "    print(\"This is a supervised classification problem!\")\n",
    "    print(50 * \"*\")\n",
    "    \n",
    "    \n",
    "def polarity_column(df1):\n",
    "    print(df1.polarity.value_counts())\n",
    "    pass\n",
    "    \n",
    "\n",
    "def ignoe_0_polarity(df1):\n",
    "    global active\n",
    "    if active:\n",
    "        c =  df1[df1.polarity == 0].polarity.value_counts()\n",
    "        df1.drop(df1[df1.polarity == 0].index, inplace=True)\n",
    "        print(\"removed \" , c[0] , \" rows with plarity == 0. Now dataframe shape is: \" , df1.shape)\n",
    "        active = False\n",
    "    \n",
    "    \n",
    "    \n",
    "def part5and6(df1):\n",
    "    list_of_sentences = []\n",
    "    list_of_words = []\n",
    "    feautures_of_sentences = []\n",
    "    normalizer = Normalizer()\n",
    "    sentences = []\n",
    "    for sent in df1.text :\n",
    "        sentence = normalizer.normalize(sent)\n",
    "        sentences.append(sentence)\n",
    "#         sent = sentence\n",
    "        l1 = sent_tokenize(sentence)\n",
    "        l2 = word_tokenize(sentence)\n",
    "        list_of_sentences.extend(l1)\n",
    "        list_of_words.extend(l2)\n",
    "        feautures_of_sentences.append(l2)\n",
    "        \n",
    "    dict = Counter(list_of_words)\n",
    "    unique_words = list(set(list_of_words))\n",
    "    sorted_dict = OrderedDict(sorted(dict.items(), key=lambda t: t[1] , reverse=True))\n",
    "    \n",
    "    \n",
    "    \n",
    "    print(\"total number of sentences in corpus is: \" , str(len(list_of_sentences)))\n",
    "    print(\"total number of words in corpus is: \" , str(len(list_of_words)))\n",
    "    print(\"total number of unique words in corpus is: \" , str(len(unique_words)))\n",
    "    print(\"10 most used words in the corpus are: \")\n",
    "    most_wanted = list(sorted_dict.items())[:10]\n",
    "    print(*most_wanted , sep = \"\\n\")\n",
    "        \n",
    "    unique_words.sort()\n",
    "    return list_of_sentences , list_of_words , unique_words , sorted_dict , feautures_of_sentences , sentences , most_wanted\n",
    "    pass\n",
    "\n",
    "def refine_dataset(df1 , most_wanted1):\n",
    "    res = []\n",
    "    for sent in df1.text :\n",
    "        sent1 = sent\n",
    "        for i in range(0,9):\n",
    "            tr = ' ' + most_wanted1[i][0] + ' '\n",
    "            sent1 = sent1.replace(tr , ' ')\n",
    "        sent1 = sent1.replace('.' , '')\n",
    "        sent1 = sent1.replace('،' , '')\n",
    "\n",
    "        res.append(sent1)\n",
    "    return res\n",
    "\n",
    "\n",
    "\n",
    "\n",
    "\n",
    "# 1) show some of its rows:  It's done in previous cell.\n",
    "print(\"1) show some of its rows:  It's done in previous cell.\")\n",
    "\n",
    "\n",
    "# 2) Briefly describe the dataset. Check that if it has any Nan or duplicated values.\n",
    "print(\"2) Briefly describe the dataset. Check that if it has any Nan or duplicated values.\")\n",
    "details()\n",
    "remove_invalid_polarity(df)\n",
    "remove_duplicate_text(df)\n",
    "check_for_Nan_and_NA(df)\n",
    "print(100 * \"-\")\n",
    "\n",
    "\n",
    "# 3) Describe the polarity column. Show its unique values and count each one.\n",
    "print(\"3) Describe the polarity column. Show its unique values and count each one.\")\n",
    "polarity_column(df)\n",
    "print(100 * \"-\")\n",
    "\n",
    "# 4) Ignore all sentences with 0 as their polarity label. Also, assume that there are only two positive and negative classes, +1 and +2 as positive and -1 and -2 as negative.\n",
    "print(\"4) Ignore all sentences with 0 as their polarity label. Also, assume that there are only two positive and negative classes, +1 and +2 as positive and -1 and -2 as negative.\")\n",
    "ignoe_0_polarity(df)\n",
    "print(\"\\n\")\n",
    "\n",
    "for idx in df.index:\n",
    "    sample = df.at[idx , 'polarity']\n",
    "    if sample == -2:\n",
    "        df.at[idx , 'polarity'] = -1\n",
    "    elif sample == +2:\n",
    "        df.at[idx , 'polarity'] = +1\n",
    "# df['polarity'] = df['polarity'].map(label_map)\n",
    "display(df)\n",
    "\n",
    "print(\"\\n\")\n",
    "polarity_column(df)\n",
    "print(\"\\n\")\n",
    "\n",
    "print(100 * \"-\")\n",
    "\n",
    "#  5 , 6) (Optional) Text preprocessing is the very first step of NLP projects. You can either implement this part, or use libraries (hazm, parsivar). Use appropriate preprocessing steps based on the dataset.Report the corpus's total number of sentences and words. Also, print the ten most seen words with their frequency.\n",
    "print(\"5) (Optional) Text preprocessing is the very first step of NLP projects. You can either implement this part, or use libraries (hazm, parsivar). Use appropriate preprocessing steps based on the dataset. Report the corpus's total number of sentences and words. Also, print the ten most seen words with their frequency. \\n \")\n",
    "# res = refine_dataset(df)\n",
    "# df['text'] = res\n",
    "list_of_sentences , list_of_words , unique_words , sorted_dict, feautures_of_sentences , sentences, most_wanted = part5and6(df)\n",
    "df['text'] = sentences\n",
    "df['words'] = feautures_of_sentences\n",
    "print(100 * \"-\")\n",
    "\n",
    "print(\"now let's refine the dataset. as you can see, 9 out of 10 of most seen words are punctutaion or preposition. we remove all these words. \\n\")\n",
    "res = refine_dataset(df , most_wanted)\n",
    "df['text'] = res\n",
    "list_of_sentences , list_of_words , unique_words , sorted_dict, feautures_of_sentences , sentences, most_wanted = part5and6(df)\n",
    "print(100 * \"-\")\n",
    "df['text'] = sentences\n",
    "df['words'] = feautures_of_sentences\n",
    "\n",
    "\n",
    "# 7) Note that the dataset is imbalanced (the positive and negative classes are not represented equally). Explain how this problem can affect the accuracy and what your solution is.\n",
    "\n",
    "print(\"7) Note that the dataset is imbalanced (the positive and negative classes are not represented equally). Explain how this problem can affect the accuracy and what your solution is.\")\n",
    "\n",
    "print()\n",
    "print(\"later in this notebook, you will see that almost 80% of samples belong to class +1. so with a really dumb predicator which maps every sample to class +1, we will get 80% accuracy!\")\n",
    "\n"
   ]
  },
  {
   "cell_type": "markdown",
   "metadata": {
    "id": "taJ5mVoNn95A"
   },
   "source": [
    "# Feature Extraction"
   ]
  },
  {
   "cell_type": "markdown",
   "metadata": {
    "id": "VCT1UhdXoCTG"
   },
   "source": [
    "### In this step, you must extract good features from the raw text and prepare it for the Naive Bayes algorithm. A simple way is to transform a given text into a vector on the basis of the frequency (count) of each word that occurs in the entire text.\n",
    "### Note that extracting good and meaningful features greatly affects the model and can get you extra credit."
   ]
  },
  {
   "cell_type": "code",
   "execution_count": 6,
   "metadata": {
    "id": "NvEktvIPsEN4",
    "scrolled": true
   },
   "outputs": [],
   "source": [
    "# TODO\n",
    "def create_empty_dictionary(l):\n",
    "    a = {k: 0 for k in l}\n",
    "    return a\n",
    "\n",
    "l2 = []\n",
    "for i in range(0,df.shape[0]):\n",
    "    l2.append(create_empty_dictionary(unique_words))\n",
    "df['features'] = l2\n",
    "\n",
    "df.head()\n",
    "\n",
    "for idx in df.index:\n",
    "    sample = df.loc[idx]\n",
    "    for j in sample.words:\n",
    "        (df.features[idx])[j] = (df.features[idx]).get(j , 0) + 1\n",
    "\n"
   ]
  },
  {
   "cell_type": "markdown",
   "metadata": {
    "id": "GDFbbXqPsL1K"
   },
   "source": [
    "# Naive Bayes"
   ]
  },
  {
   "cell_type": "markdown",
   "metadata": {
    "id": "Vlb1vkeKsQql"
   },
   "source": [
    "### Implement Naive Bayes from scratch!"
   ]
  },
  {
   "cell_type": "code",
   "execution_count": 7,
   "metadata": {
    "id": "whBxjHoCs4mB"
   },
   "outputs": [],
   "source": [
    "# You can add any other function or cell.\n",
    "import math\n",
    "\n",
    "class NB:\n",
    "    # TODO\n",
    "\n",
    "    class_prob = {}\n",
    "    classes = []\n",
    "    mega = {}\n",
    "    unit_probs = {}\n",
    "    words_in_class = {}\n",
    "    total_words = []\n",
    "    total_unique_words = []\n",
    "    \n",
    "    \n",
    "    def __init__(self):\n",
    "        # TODO\n",
    "        pass\n",
    "    \n",
    "    def calculate_class_prob(self, y):\n",
    "        self.classes = list(set(y.polarity))\n",
    "        c = y['polarity'].value_counts(normalize=True)\n",
    "        print(\"prior probability of each class: \\n\" , c)\n",
    "        self.class_prob = c\n",
    "        pass\n",
    "    \n",
    "    def create_mega_documents(self, x,y):\n",
    "\n",
    "        self.mega = {c: [] for c in self.classes}\n",
    "        \n",
    "        for t in x.index :\n",
    "            sample = x.loc[t]\n",
    "            sample_class = y['polarity'][t]\n",
    "            for w in sample.words:\n",
    "                (self.mega[sample_class]).append(w)\n",
    "                \n",
    "        for c ,v in self.mega.items():\n",
    "            print(\"mega document for class \" , str(c) , \" has \" , str(len(v)) , \" words.\")\n",
    "        \n",
    "        pass\n",
    "    \n",
    "    def calculate_unit_counts (self, x, y):\n",
    "        t = list((x.iloc[0]).features.keys())\n",
    "        a = {k: {} for k in t}\n",
    "\n",
    "        b = dict.fromkeys(self.classes , 0)\n",
    "        total = 0\n",
    "        for c ,v in self.mega.items():\n",
    "            for w in v:\n",
    "                (a[w])[c] = (a[w]).get(c,0) +1\n",
    "                b[c] = b.get(c,0)+1\n",
    "                total += 1\n",
    "                self.total_words.append(w)\n",
    "        \n",
    "        self.total_unique_words = list(set(self.total_words))\n",
    "        print(\"total number of words in training data is: \" , str(total))\n",
    "        print(\"total number of unique words in training data is: \" , str(len(self.total_unique_words)))\n",
    "        self.words_in_class = b\n",
    "        self.unit_probs = a\n",
    "        pass\n",
    "    \n",
    "    def fit(self , x, y):\n",
    "        # TODO: calculate probabilities and build the model\n",
    "        self.calculate_class_prob(y)\n",
    "        self.create_mega_documents(x,y)\n",
    "        self.calculate_unit_counts(x,y)\n",
    "        pass\n",
    "    \n",
    "\n",
    "    def predict(self , x):\n",
    "        # TODO: returns a list of labels with respect to x\n",
    "        result = []\n",
    "        for t in x.index :\n",
    "            probability = -1\n",
    "            classs = 0\n",
    "            for c in self.classes:\n",
    "                prob = 1.0\n",
    "                sample = x.loc[t]\n",
    "                \n",
    "                for w in sample.words:\n",
    "                    q1 = (self.unit_probs[w]).get(c,0) + 1\n",
    "                    q2 = self.words_in_class[c] + len(self.total_unique_words)\n",
    "                    q3 = q1 / q2\n",
    "                    prob = prob * q3\n",
    "                prob = prob * self.class_prob[c]\n",
    "                if prob > probability:\n",
    "                    probability = prob\n",
    "                    classs = c\n",
    "            result.append(classs)\n",
    "        return result\n",
    "        pass\n",
    "    \n",
    "        \n"
   ]
  },
  {
   "cell_type": "markdown",
   "metadata": {
    "id": "-hP45f0HuDa5"
   },
   "source": [
    "# Evaluation"
   ]
  },
  {
   "cell_type": "markdown",
   "metadata": {
    "id": "sv3KXnNfvKh1"
   },
   "source": [
    "### Your code will be evaluated by the F1 score. If your model predicts better than a random predictor, you will get the total score of this part. So explain what F1 score we get with a random predictor.\n",
    "\n",
    "### After beating the random predictor, you will get extra credit for improving your model due to your F1 score.\n",
    "\n",
    "### Use 75% of the data for the training and 25% for the testing set.\n",
    "\n",
    "### Do not forget to report the following items:\n",
    "\n",
    "1.   Accuracy\n",
    "2.   Precision\n",
    "3.   Recall\n",
    "4.   Confusion Matrix\n",
    "5.   F1 Score\n",
    "\n"
   ]
  },
  {
   "cell_type": "code",
   "execution_count": 8,
   "metadata": {
    "id": "nZv3Ws54ub6I"
   },
   "outputs": [],
   "source": [
    "from sklearn.model_selection import train_test_split\n",
    "from sklearn.metrics import confusion_matrix, accuracy_score, classification_report\n",
    "import seaborn as sns\n",
    "import matplotlib.pyplot as plt\n",
    "sns.set()\n"
   ]
  },
  {
   "cell_type": "code",
   "execution_count": 9,
   "metadata": {
    "id": "9Ga6x1-Vu1Yo"
   },
   "outputs": [],
   "source": [
    "# TODO: Do not forget to extract features. You can also do this step after the train-test split.\n",
    "\n",
    "# feature extraction had been done before.\n",
    "\n",
    "X = df[['index' , 'text' , 'text2' , 'words' , 'features']]\n",
    "labels = df[['polarity']]"
   ]
  },
  {
   "cell_type": "code",
   "execution_count": 10,
   "metadata": {
    "id": "y5uHRFNmUjCm"
   },
   "outputs": [],
   "source": [
    "# Try not to change this cell.\n",
    "x, x_test, y, y_test = train_test_split(X, labels, stratify=labels, test_size=0.25, random_state=42)"
   ]
  },
  {
   "cell_type": "code",
   "execution_count": 11,
   "metadata": {
    "id": "pYqgDILnUH9a"
   },
   "outputs": [
    {
     "name": "stdout",
     "output_type": "stream",
     "text": [
      "prior probability of each class: \n",
      "  1    0.809681\n",
      "-1    0.190319\n",
      "Name: polarity, dtype: float64\n",
      "mega document for class  1  has  95639  words.\n",
      "mega document for class  -1  has  23352  words.\n",
      "total number of words in training data is:  118991\n",
      "total number of unique words in training data is:  10840\n"
     ]
    }
   ],
   "source": [
    "model = NB()\n",
    "model.fit(x, y)"
   ]
  },
  {
   "cell_type": "code",
   "execution_count": 12,
   "metadata": {
    "id": "TzIceT2hvAwo"
   },
   "outputs": [],
   "source": [
    "y_pred = model.predict(x_test)\n",
    "\n"
   ]
  },
  {
   "cell_type": "code",
   "execution_count": 13,
   "metadata": {
    "id": "TYKZakdmvHip"
   },
   "outputs": [
    {
     "data": {
      "image/png": "[encoded data removed]",
      "text/plain": [
       "<Figure size 432x288 with 2 Axes>"
      ]
     },
     "metadata": {},
     "output_type": "display_data"
    },
    {
     "name": "stdout",
     "output_type": "stream",
     "text": [
      "The accuracy is 0.8438978240302744\n",
      "              precision    recall  f1-score   support\n",
      "\n",
      "          -1       0.62      0.45      0.52       402\n",
      "           1       0.88      0.94      0.91      1712\n",
      "\n",
      "    accuracy                           0.84      2114\n",
      "   macro avg       0.75      0.69      0.71      2114\n",
      "weighted avg       0.83      0.84      0.83      2114\n",
      "\n"
     ]
    }
   ],
   "source": [
    "# TODO: Report metrics\n",
    "\n",
    "mat = confusion_matrix(y_test.polarity, y_pred)\n",
    "sns.heatmap(mat.T, square = True, annot=True, fmt = \"d\")\n",
    "plt.xlabel(\"true labels\")\n",
    "plt.ylabel(\"predicted label\")\n",
    "plt.show()\n",
    "print(\"The accuracy is {}\".format(accuracy_score(y_test.polarity, y_pred)))\n",
    "a = classification_report(y_test.polarity, y_pred)\n",
    "print(a)"
   ]
  },
  {
   "cell_type": "markdown",
   "metadata": {
    "id": "J1CYe2xzvzO0"
   },
   "source": [
    "# scikit-learn"
   ]
  },
  {
   "cell_type": "markdown",
   "metadata": {
    "id": "H0zKvC5ov-zW"
   },
   "source": [
    "### Now use Scikit-learn and compare it with your model. You can use CountVectorizer for extracting features and MultinomialNB for the NB model. Feel free to use other methods."
   ]
  },
  {
   "cell_type": "code",
   "execution_count": 14,
   "metadata": {
    "id": "5mkO5UeUwxF4"
   },
   "outputs": [],
   "source": [
    "# Try not to change this cell.\n",
    "x, x_test, y, y_test = train_test_split(X, labels, stratify=labels, test_size=0.25, random_state=42)\n"
   ]
  },
  {
   "cell_type": "code",
   "execution_count": 17,
   "metadata": {},
   "outputs": [
    {
     "data": {
      "image/png": "[encoded data removed]",
      "text/plain": [
       "<Figure size 432x288 with 2 Axes>"
      ]
     },
     "metadata": {},
     "output_type": "display_data"
    },
    {
     "name": "stdout",
     "output_type": "stream",
     "text": [
      "The accuracy is 0.8098391674550615\n",
      "              precision    recall  f1-score   support\n",
      "\n",
      "          -1       0.00      0.00      0.00       402\n",
      "           1       0.81      1.00      0.89      1712\n",
      "\n",
      "    accuracy                           0.81      2114\n",
      "   macro avg       0.40      0.50      0.45      2114\n",
      "weighted avg       0.66      0.81      0.72      2114\n",
      "\n"
     ]
    },
    {
     "name": "stderr",
     "output_type": "stream",
     "text": [
      "C:\\Users\\Mojtaba\\anaconda3\\envs\\myEnv\\lib\\site-packages\\sklearn\\metrics\\_classification.py:1308: UndefinedMetricWarning: Precision and F-score are ill-defined and being set to 0.0 in labels with no predicted samples. Use `zero_division` parameter to control this behavior.\n",
      "  _warn_prf(average, modifier, msg_start, len(result))\n",
      "C:\\Users\\Mojtaba\\anaconda3\\envs\\myEnv\\lib\\site-packages\\sklearn\\metrics\\_classification.py:1308: UndefinedMetricWarning: Precision and F-score are ill-defined and being set to 0.0 in labels with no predicted samples. Use `zero_division` parameter to control this behavior.\n",
      "  _warn_prf(average, modifier, msg_start, len(result))\n",
      "C:\\Users\\Mojtaba\\anaconda3\\envs\\myEnv\\lib\\site-packages\\sklearn\\metrics\\_classification.py:1308: UndefinedMetricWarning: Precision and F-score are ill-defined and being set to 0.0 in labels with no predicted samples. Use `zero_division` parameter to control this behavior.\n",
      "  _warn_prf(average, modifier, msg_start, len(result))\n"
     ]
    }
   ],
   "source": [
    "\n",
    "from sklearn.feature_extraction.text import TfidfVectorizer\n",
    "from sklearn.naive_bayes import MultinomialNB\n",
    "from sklearn.pipeline import make_pipeline\n",
    "\n",
    "\n",
    "corpus = x.text2\n",
    "labels = y.polarity\n",
    "model = make_pipeline( TfidfVectorizer(), MultinomialNB())\n",
    "model.fit(corpus, labels)\n",
    "predicted_categories = model.predict(x_test.text2)\n",
    "\n",
    "mat = confusion_matrix(y_test.polarity, predicted_categories)\n",
    "sns.heatmap(mat.T, square = True, annot=True, fmt = \"d\")\n",
    "plt.xlabel(\"true labels\")\n",
    "plt.ylabel(\"predicted label\")\n",
    "plt.show()\n",
    "print(\"The accuracy is {}\".format(accuracy_score(y_test.polarity, predicted_categories)))\n",
    "a = classification_report(y_test.polarity, predicted_categories)\n",
    "print(a)\n"
   ]
  }
 ],
 "metadata": {
  "colab": {
   "collapsed_sections": [],
   "name": "PA4-part1.ipynb",
   "provenance": []
  },
  "direction": "ltr",
  "kernelspec": {
   "display_name": "Python 3 (ipykernel)",
   "language": "python",
   "name": "python3"
  },
  "language_info": {
   "codemirror_mode": {
    "name": "ipython",
    "version": 3
   },
   "file_extension": ".py",
   "mimetype": "text/x-python",
   "name": "python",
   "nbconvert_exporter": "python",
   "pygments_lexer": "ipython3",
   "version": "3.8.12"
  }
 },
 "nbformat": 4,
 "nbformat_minor": 1
}
